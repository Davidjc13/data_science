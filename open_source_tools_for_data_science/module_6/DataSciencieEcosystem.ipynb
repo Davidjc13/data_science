{
 "cells": [
  {
   "cell_type": "markdown",
   "id": "be7ea265-5aa8-40fb-9c01-91de69fa4a4f",
   "metadata": {},
   "source": [
    "# Data Science Tools and Ecosystem"
   ]
  },
  {
   "cell_type": "markdown",
   "id": "48553166-3c5b-4647-979e-11c712096e40",
   "metadata": {},
   "source": [
    "In this notebook, Data Science Tools and Ecosystem are sumarized."
   ]
  },
  {
   "cell_type": "markdown",
   "id": "23ea6dd8-8fef-42d0-a4f5-272a23134dfa",
   "metadata": {
    "tags": []
   },
   "source": [
    "**Objectives:**\n",
    "- List some of the popular languages in Data Science.\n",
    "- List some of the most common libraries used in Data Science.\n",
    "- List some of the most common open source IDE's used in Data Science.\n",
    "- Evaluate arithmetic expressions with Python.\n",
    "## Author:\n",
    "David Jiménez Castro."
   ]
  },
  {
   "cell_type": "markdown",
   "id": "ed535109-9290-4adb-a155-ca6f2c8471f2",
   "metadata": {
    "tags": []
   },
   "source": [
    "Some of the popular languages that Data Scientists use are:\n",
    "1. Python\n",
    "2. R\n",
    "3. SQL"
   ]
  },
  {
   "cell_type": "markdown",
   "id": "3fe25aed-8989-4254-a8d8-62ae8c86f054",
   "metadata": {},
   "source": [
    "Some of the commonly used libraries used by Data Scientists include:\n",
    "1. Pandas\n",
    "2. Numpy\n",
    "3. Matplot\n"
   ]
  },
  {
   "cell_type": "markdown",
   "id": "d60f975e-782e-4c85-be71-3ac9554af56e",
   "metadata": {
    "tags": []
   },
   "source": [
    "|Data Science Tools|\n",
    "|------------------|\n",
    "|Jupyter Notebook|\n",
    "|RStudio|\n",
    "|VS Code|"
   ]
  },
  {
   "cell_type": "markdown",
   "id": "336c7995-6eae-4c6c-b953-17ae0e5d8df3",
   "metadata": {},
   "source": [
    "### Below are few examples of evaluating arithmetic expressions in Python."
   ]
  },
  {
   "cell_type": "code",
   "execution_count": 2,
   "id": "631fa2e2-eb39-4828-941f-3a208fbbf63f",
   "metadata": {
    "tags": []
   },
   "outputs": [
    {
     "data": {
      "text/plain": [
       "17"
      ]
     },
     "execution_count": 2,
     "metadata": {},
     "output_type": "execute_result"
    }
   ],
   "source": [
    "(3*4) + 5"
   ]
  },
  {
   "cell_type": "code",
   "execution_count": 3,
   "id": "de02781a-94ea-42c4-81da-751cd537193a",
   "metadata": {
    "tags": []
   },
   "outputs": [
    {
     "data": {
      "text/plain": [
       "3.3333333333333335"
      ]
     },
     "execution_count": 3,
     "metadata": {},
     "output_type": "execute_result"
    }
   ],
   "source": [
    "# Convert 200 minutes to hours by dividing by 60\n",
    "200/60"
   ]
  },
  {
   "cell_type": "code",
   "execution_count": null,
   "id": "082b3de0-9d4d-4b97-9ef8-ac42c478786e",
   "metadata": {},
   "outputs": [],
   "source": []
  }
 ],
 "metadata": {
  "kernelspec": {
   "display_name": "Python",
   "language": "python",
   "name": "conda-env-python-py"
  },
  "language_info": {
   "codemirror_mode": {
    "name": "ipython",
    "version": 3
   },
   "file_extension": ".py",
   "mimetype": "text/x-python",
   "name": "python",
   "nbconvert_exporter": "python",
   "pygments_lexer": "ipython3",
   "version": "3.7.12"
  }
 },
 "nbformat": 4,
 "nbformat_minor": 5
}
